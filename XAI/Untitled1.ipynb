{
 "cells": [
  {
   "cell_type": "code",
   "execution_count": 3,
   "metadata": {},
   "outputs": [],
   "source": [
    "import numpy as np\n",
    "from sklearn.metrics import accuracy_score\n",
    "from sklearn.model_selection import train_test_split\n",
    "from xgboost import XGBClassifier\n",
    "import pandas as pd\n",
    "import os\n",
    "import matplotlib.pyplot as plt\n",
    "from matplotlib.pylab import rcParams\n",
    "from xgboost import plot_tree\n",
    "%matplotlib inline"
   ]
  },
  {
   "cell_type": "code",
   "execution_count": 9,
   "metadata": {},
   "outputs": [
    {
     "name": "stdout",
     "output_type": "stream",
     "text": [
      "Accuracy : 74.03%\n"
     ]
    }
   ],
   "source": [
    "dataset = pd.read_csv('C:\\\\Users\\\\ehdtn\\\\Downloads\\\\archive\\\\diabetes.csv')\n",
    "\n",
    "X = dataset.iloc[:, :8]\n",
    "y = dataset.iloc[:, 8]\n",
    "\n",
    "x_train, x_test, y_train, y_test = train_test_split(X, y, test_size=0.2, random_state=7)\n",
    "\n",
    "model = XGBClassifier() \n",
    "model.fit(x_train, y_train)\n",
    "y_pred = model.predict(x_test)\n",
    "accuracy = accuracy_score(y_test, y_pred)\n",
    "\n",
    "print (\"Accuracy : %.2f%%\" % (accuracy * 100.0))"
   ]
  },
  {
   "cell_type": "code",
   "execution_count": null,
   "metadata": {},
   "outputs": [],
   "source": [
    "파이썬은 인자로 함수를 받을 수 있음!!\n",
    "\n",
    "map(함수, 반복가능한 객체) => return 반복가능한 객체\n",
    "sorted(반복가능한 객체, key=인수를 하나만 받는 함수) "
   ]
  },
  {
   "cell_type": "code",
   "execution_count": 11,
   "metadata": {},
   "outputs": [],
   "source": [
    "def add_100(num):\n",
    "    return num + 100"
   ]
  },
  {
   "cell_type": "code",
   "execution_count": 12,
   "metadata": {},
   "outputs": [
    {
     "data": {
      "text/plain": [
       "[100, 101, 102, 103, 104, 105, 106, 107, 108, 109]"
      ]
     },
     "execution_count": 12,
     "metadata": {},
     "output_type": "execute_result"
    }
   ],
   "source": [
    "list(map(add_100, range(10)))"
   ]
  },
  {
   "cell_type": "code",
   "execution_count": 13,
   "metadata": {},
   "outputs": [],
   "source": [
    "fruits = ['apple', 'banana', 'cherry', 'fig', 'strawberry']"
   ]
  },
  {
   "cell_type": "code",
   "execution_count": 14,
   "metadata": {},
   "outputs": [
    {
     "data": {
      "text/plain": [
       "['fig', 'apple', 'banana', 'cherry', 'strawberry']"
      ]
     },
     "execution_count": 14,
     "metadata": {},
     "output_type": "execute_result"
    }
   ],
   "source": [
    "sorted(fruits, key=len)"
   ]
  },
  {
   "cell_type": "markdown",
   "metadata": {},
   "source": [
    "객체를 함수처럼 동작하게 만들 수 있다 => class 내에 __call__() 함수를 정의"
   ]
  },
  {
   "cell_type": "code",
   "execution_count": 15,
   "metadata": {},
   "outputs": [],
   "source": [
    "class pick_first:\n",
    "    def __init__(self, items):\n",
    "        self.items = list(items)\n",
    "        \n",
    "    def pick(self):\n",
    "        try:\n",
    "            return self.items[0]\n",
    "        except IndexError:\n",
    "            raise LookupError('You are trying to pick an item from empty list')\n",
    "    \n",
    "    def __call__(self):\n",
    "        return self.pick()"
   ]
  },
  {
   "cell_type": "code",
   "execution_count": 17,
   "metadata": {},
   "outputs": [],
   "source": [
    "obj = pick_first(range(1,10))"
   ]
  },
  {
   "cell_type": "code",
   "execution_count": 22,
   "metadata": {},
   "outputs": [
    {
     "name": "stdout",
     "output_type": "stream",
     "text": [
      "1\n",
      "1\n"
     ]
    }
   ],
   "source": [
    "print (obj.pick())\n",
    "print (obj()) # 함수명을 모를때 유용할 듯"
   ]
  },
  {
   "cell_type": "code",
   "execution_count": 37,
   "metadata": {},
   "outputs": [],
   "source": [
    "# 특정 필드를 기준으로 정렬하기\n",
    "from operator import itemgetter\n",
    "\n",
    "city_country = [('Tokyo','JP'),('Delhi NCR','IN'),('Mexico City','MX'),('Seoul','KR'),('Sao Paulo','BR')]\n",
    "sorted(city_country, key = itemgetter(1))"
   ]
  },
  {
   "cell_type": "code",
   "execution_count": 1,
   "metadata": {},
   "outputs": [
    {
     "name": "stdout",
     "output_type": "stream",
     "text": [
      "True\n",
      "False\n"
     ]
    }
   ],
   "source": [
    "# 변수는 객체에 붙은 레이블이다!\n",
    "\n",
    "# == 연산자는 객체의 값을 비교 / is 연산자는 객체의 정체성을 비교\n",
    "a = [1,2,3]\n",
    "b = [1,2,3]\n",
    "print (a == b)\n",
    "print (a is b)"
   ]
  },
  {
   "cell_type": "code",
   "execution_count": 4,
   "metadata": {},
   "outputs": [
    {
     "name": "stdout",
     "output_type": "stream",
     "text": [
      "(1, 2, [1, 2, 3])\n"
     ]
    }
   ],
   "source": [
    "# 튜플 안에 있는 가변 항목은 변경할 수 있다.\n",
    "t = (1, 2, [1,2])\n",
    "t[-1].append(3)\n",
    "print (t)"
   ]
  },
  {
   "cell_type": "code",
   "execution_count": 19,
   "metadata": {},
   "outputs": [],
   "source": [
    "import copy\n",
    "# 얕은 복사는 최상위 컨테이너는 복사하지만(다른 객체), 내부의 컨테이너는 동일한 객체 참조\n",
    "a = [1,[2,3],[4,5,6]]\n",
    "b = copy.copy(a)\n",
    "c = copy.deepcopy(a)"
   ]
  },
  {
   "cell_type": "code",
   "execution_count": 20,
   "metadata": {},
   "outputs": [
    {
     "name": "stdout",
     "output_type": "stream",
     "text": [
      "[1, [2, 3], [4, 5, 6, 7]]\n",
      "[1, [2, 3], [4, 5, 6, 7]]\n",
      "[1, [2, 3], [4, 5, 6]]\n"
     ]
    }
   ],
   "source": [
    "a[2].append(7)\n",
    "print (a)\n",
    "print (b)\n",
    "print (c)"
   ]
  },
  {
   "cell_type": "code",
   "execution_count": null,
   "metadata": {},
   "outputs": [],
   "source": [
    "a = "
   ]
  }
 ],
 "metadata": {
  "kernelspec": {
   "display_name": "Python 3",
   "language": "python",
   "name": "python3"
  },
  "language_info": {
   "codemirror_mode": {
    "name": "ipython",
    "version": 3
   },
   "file_extension": ".py",
   "mimetype": "text/x-python",
   "name": "python",
   "nbconvert_exporter": "python",
   "pygments_lexer": "ipython3",
   "version": "3.7.4"
  }
 },
 "nbformat": 4,
 "nbformat_minor": 2
}
